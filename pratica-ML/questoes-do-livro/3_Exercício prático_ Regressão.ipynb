{
 "cells": [
  {
   "cell_type": "markdown",
   "id": "6c3948d5",
   "metadata": {
    "id": "6c3948d5"
   },
   "source": [
    "# Exercício de Laboratório: Regressão Linear com a Equação Normal\n",
    "\n",
    "**Objetivo:** aplicar o método da Equação Normal para encontrar os parâmetros ótimos de um modelo de Regressão Linear e, em seguida, verificar os resultados usando a biblioteca Scikit-Learn.\n",
    "\n",
    "Você irá:\n",
    "1.  Gerar dados sintéticos com uma tendência linear decrescente.\n",
    "2.  Usar a Equação Normal e o NumPy para encontrar os melhores parâmetros para o seu modelo de Regressão Linear.\n",
    "3.  Fazer previsões e plotar a reta de regressão.\n",
    "4.  Verificar seus resultados usando a classe `LinearRegression` do Scikit-Learn."
   ]
  },
  {
   "cell_type": "markdown",
   "id": "cLO-LDoBbJ37",
   "metadata": {
    "id": "cLO-LDoBbJ37"
   },
   "source": [
    "### Passo 1: Importar Bibliotecas\n",
    "\n",
    "A célula de código abaixo importa todas as bibliotecas que usaremos neste exercício: `NumPy` para cálculos numéricos, `Matplotlib` para plotagem e `Scikit-Learn` para o modelo de Regressão Linear."
   ]
  },
  {
   "cell_type": "code",
   "execution_count": 1,
   "id": "pPQGhEHIbB0q",
   "metadata": {
    "executionInfo": {
     "elapsed": 2708,
     "status": "ok",
     "timestamp": 1758544559674,
     "user": {
      "displayName": "Críston Souza",
      "userId": "15676764218278845866"
     },
     "user_tz": 180
    },
    "id": "pPQGhEHIbB0q"
   },
   "outputs": [],
   "source": [
    "import numpy as np\n",
    "import matplotlib.pyplot as plt\n",
    "from sklearn.linear_model import LinearRegression"
   ]
  },
  {
   "cell_type": "markdown",
   "id": "-1AGgZNIcDOT",
   "metadata": {
    "id": "-1AGgZNIcDOT"
   },
   "source": [
    "### Passo 2: Gerar Dados Sintéticos\n",
    "\n",
    "No livro, os dados foram gerados com a equação `y = 4 + 3x + ruído`. Para este exercício, vamos usar uma equação diferente para criar dados com uma correlação negativa (uma reta decrescente). Além disso, os valores do atributo vão de 2 até 6.\n",
    "\n",
    "**Sua Tarefa:** Complete a célula de código a seguir para gerar 100 pontos de dados usando a equação **`y = 5 - 2x + ruído Gaussiano`**."
   ]
  },
  {
   "cell_type": "code",
   "execution_count": 22,
   "id": "3LZs9ChBbNfv",
   "metadata": {
    "colab": {
     "base_uri": "https://localhost:8080/",
     "height": 472
    },
    "executionInfo": {
     "elapsed": 409,
     "status": "ok",
     "timestamp": 1758544590740,
     "user": {
      "displayName": "Críston Souza",
      "userId": "15676764218278845866"
     },
     "user_tz": 180
    },
    "id": "3LZs9ChBbNfv",
    "outputId": "02d7104f-7ee9-43fc-bdc8-8ed615fa82b3"
   },
   "outputs": [
    {
     "data": {
      "image/png": "[encoded data removed]",
      "text/plain": [
       "<Figure size 640x480 with 1 Axes>"
      ]
     },
     "metadata": {},
     "output_type": "display_data"
    }
   ],
   "source": [
    "# Para garantir que seja possível reproduzir os resultados\n",
    "np.random.seed(42)\n",
    "\n",
    "# Gere 100 instâncias\n",
    "m = 100\n",
    "\n",
    "# ############################################################### #\n",
    "# PREENCHA O CÓDIGO AQUI:\n",
    "# Gere um vetor de características X com 100 valores aleatórios entre 2 e 6\n",
    "# Gere o vetor de rótulos 'y' usando a equação y = 5 - 2x + ruído\n",
    "\n",
    "X = np.random.uniform(2, 6, size=(m, 1))\n",
    "y = 6 - 2*X + np.random.randn(100, 1)\n",
    "\n",
    "\n",
    "\n",
    "# ############################################################### #\n",
    "\n",
    "# Vamos plotar os dados para visualizá-los\n",
    "plt.scatter(X, y)\n",
    "plt.xlabel(\"x1\")\n",
    "plt.ylabel(\"y\")\n",
    "plt.title(\"Dados Sintéticos Gerados\")\n",
    "plt.grid(True)\n",
    "plt.show()"
   ]
  },
  {
   "cell_type": "markdown",
   "id": "rXamG-V3cH2B",
   "metadata": {
    "id": "rXamG-V3cH2B"
   },
   "source": [
    "### Passo 3: Encontrar Parâmetros com a Equação Normal\n",
    "\n",
    "Agora, você irá calcular os parâmetros ótimos ($\\hat{\\theta}$) para o seu modelo. Conforme visto na aula, para encontrar o valor de $\\theta$ que minimiza a função de custo, existe uma solução de forma fechada conhecida como a Equação Normal:\n",
    "\n",
    "$$\\hat{\\theta} = (X^T X)^{-1} X^T y$$\n",
    "\n",
    "**Sua Tarefa:**\n",
    "1.  Adicione o termo de viés ($x_0 = 1$) a cada instância no seu conjunto de dados `X`. Isso é necessário para que a Equação Normal calcule o intercepto ($\\theta_0$).\n",
    "2.  Implemente a Equação Normal usando as operações de álgebra linear do NumPy para encontrar `theta_best`."
   ]
  },
  {
   "cell_type": "code",
   "execution_count": 24,
   "id": "xsx3h_KJcI5I",
   "metadata": {
    "colab": {
     "base_uri": "https://localhost:8080/"
    },
    "executionInfo": {
     "elapsed": 42,
     "status": "ok",
     "timestamp": 1758544853781,
     "user": {
      "displayName": "Críston Souza",
      "userId": "15676764218278845866"
     },
     "user_tz": 180
    },
    "id": "xsx3h_KJcI5I",
    "outputId": "a4944a9a-139f-4f18-a7c5-7a0f562404e9"
   },
   "outputs": [
    {
     "name": "stdout",
     "output_type": "stream",
     "text": [
      "Parâmetros encontrados com a Equação Normal:\n",
      "Theta 0 (Intercepto): 6.444982771108208\n",
      "Theta 1 (Coeficiente): -2.1149433067807446\n"
     ]
    }
   ],
   "source": [
    "# ############################################################### #\n",
    "# PREENCHA O CÓDIGO AQUI:\n",
    "# 1. Adicione o termo de viés (x0 = 1) a X. Crie uma nova variável X_b.\n",
    "# 2. Calcule theta_best usando a Equação Normal\n",
    "\n",
    "X_b = np.c_[np.ones((100, 1)), X]\n",
    "theta_best = np.linalg.inv(X_b.T.dot(X_b)).dot(X_b.T).dot(y)\n",
    "\n",
    "# ############################################################### #\n",
    "\n",
    "# Exiba os parâmetros encontrados\n",
    "print(\"Parâmetros encontrados com a Equação Normal:\")\n",
    "print(f\"Theta 0 (Intercepto): {theta_best[0][0]}\")\n",
    "print(f\"Theta 1 (Coeficiente): {theta_best[1][0]}\")\n",
    "\n",
    "# Esperamos que theta_0 seja próximo de 5 e theta_1 seja próximo de -2."
   ]
  },
  {
   "cell_type": "markdown",
   "id": "8VFagsH5cqA3",
   "metadata": {
    "id": "8VFagsH5cqA3"
   },
   "source": [
    "### Passo 4: Fazer Previsões e Plotar a Reta de Regressão\n",
    "\n",
    "Com os parâmetros em `theta_best`, seu modelo está treinado! Agora você pode usá-lo para fazer previsões em novos dados.\n",
    "\n",
    "**Sua Tarefa:**\n",
    "1.  Crie um novo conjunto de dados `X_new` para prever os valores de y quando x=2 e x=6.\n",
    "2.  Adicione o termo de viés a `X_new`.\n",
    "3.  Calcule as previsões `y_predict` usando `theta_best`.\n",
    "4.  Plote a reta de regressão resultante sobre os dados originais para visualizar o ajuste do modelo."
   ]
  },
  {
   "cell_type": "code",
   "execution_count": 27,
   "id": "pBoJhyrOcYLP",
   "metadata": {
    "colab": {
     "base_uri": "https://localhost:8080/",
     "height": 524
    },
    "executionInfo": {
     "elapsed": 312,
     "status": "ok",
     "timestamp": 1758544891417,
     "user": {
      "displayName": "Críston Souza",
      "userId": "15676764218278845866"
     },
     "user_tz": 180
    },
    "id": "pBoJhyrOcYLP",
    "outputId": "8e7a335b-e340-4caa-ca08-238cc67d3d24"
   },
   "outputs": [
    {
     "name": "stdout",
     "output_type": "stream",
     "text": [
      "Previsões para X_new:\n",
      "[[ 2.21509616]\n",
      " [-6.24467707]]\n"
     ]
    },
    {
     "data": {
      "image/png": "[encoded data removed]",
      "text/plain": [
       "<Figure size 640x480 with 1 Axes>"
      ]
     },
     "metadata": {},
     "output_type": "display_data"
    }
   ],
   "source": [
    "# ############################################################### #\n",
    "# PREENCHA O CÓDIGO AQUI:\n",
    "# 1. Crie X_new para fazer previsões\n",
    "# 2. Adicione o termo de viés a X_new para criar X_new_b\n",
    "# 3. Calcule as previsões\n",
    "\n",
    "X_new = np.array([[2], [6]])\n",
    "X_new_b = np.c_[np.ones((2,1)), X_new]\n",
    "\n",
    "y_predict = X_new_b.dot(theta_best)\n",
    "\n",
    "\n",
    "\n",
    "\n",
    "# ############################################################### #\n",
    "\n",
    "# Exiba as previsões\n",
    "print(\"Previsões para X_new:\")\n",
    "print(y_predict)\n",
    "\n",
    "# Plote a reta de regressão\n",
    "plt.plot(X_new, y_predict, \"r-\", label=\"Previsões\")\n",
    "plt.scatter(X, y)\n",
    "plt.xlabel(\"x1\")\n",
    "plt.ylabel(\"y\")\n",
    "plt.title(\"Modelo de Regressão Linear\")\n",
    "plt.legend()\n",
    "plt.grid(True)\n",
    "plt.show()"
   ]
  },
  {
   "cell_type": "markdown",
   "id": "n6qq9ExucxtN",
   "metadata": {
    "id": "n6qq9ExucxtN"
   },
   "source": [
    "### Passo 5: Verificar com Scikit-Learn\n",
    "\n",
    "Realizar a Regressão Linear usando o Scikit-Learn é muito mais direto. A classe `LinearRegression` lida com o termo de viés automaticamente e usa um método de otimização computacionalmente mais eficiente (SVD) nos bastidores.\n",
    "\n",
    "**Sua Tarefa:**\n",
    "1.  Crie e treine uma instância da classe `LinearRegression`.\n",
    "2.  Imprima o `intercept_` (intercepto) e o `coef_` (coeficiente) do modelo treinado. Os valores devem ser praticamente idênticos aos que você calculou com a Equação Normal."
   ]
  },
  {
   "cell_type": "code",
   "execution_count": 32,
   "id": "5kfnaam8ceSu",
   "metadata": {
    "colab": {
     "base_uri": "https://localhost:8080/"
    },
    "executionInfo": {
     "elapsed": 10,
     "status": "ok",
     "timestamp": 1758544916080,
     "user": {
      "displayName": "Críston Souza",
      "userId": "15676764218278845866"
     },
     "user_tz": 180
    },
    "id": "5kfnaam8ceSu",
    "outputId": "355828a2-fe3f-42a6-fb96-e358355077f7"
   },
   "outputs": [
    {
     "name": "stdout",
     "output_type": "stream",
     "text": [
      "Parâmetros encontrados com Scikit-Learn:\n",
      "Intercepto: 6.444982771108265\n",
      "Coeficiente: -2.1149433067807575\n",
      "Previsões para X_new com Scikit-Learn:\n",
      "[[ 2.21509616]\n",
      " [-6.24467707]]\n"
     ]
    }
   ],
   "source": [
    "# ############################################################### #\n",
    "# PREENCHA O CÓDIGO AQUI:\n",
    "# 1. Crie o modelo de Regressão Linear\n",
    "# 2. Treine o modelo\n",
    "# 3. Faça previsões para X_new\n",
    "\n",
    "lin_reg = LinearRegression()\n",
    "lin_reg.fit(X, y)\n",
    "lin_reg.intercept_, lin_reg.coef_\n",
    "\n",
    "\n",
    "\n",
    "\n",
    "# ############################################################### #\n",
    "\n",
    "# Exiba os parâmetros encontrados pelo Scikit-Learn\n",
    "print(\"Parâmetros encontrados com Scikit-Learn:\")\n",
    "print(f\"Intercepto: {lin_reg.intercept_[0]}\")\n",
    "print(f\"Coeficiente: {lin_reg.coef_[0][0]}\")\n",
    "\n",
    "# Exiba as previsões\n",
    "print(\"Previsões para X_new com Scikit-Learn:\")\n",
    "print(y_predict)"
   ]
  },
  {
   "cell_type": "markdown",
   "id": "L4kFl8MWc8ji",
   "metadata": {
    "id": "L4kFl8MWc8ji"
   },
   "source": [
    "**Conclusão**\n",
    "\n",
    "Se tudo correu bem, os parâmetros que você calculou manualmente usando a Equação Normal devem corresponder exatamente aos parâmetros encontrados pela biblioteca Scikit-Learn.\n",
    "Isso demonstra como o Scikit-Learn simplifica o processo (e torna-o mais eficiente pelo uso da pseudo-inversa), mas entender a matemática subjacente, como a Equação Normal, é fundamental para fazer boas escolher no projeto de sistemas de aprendizado de máquina."
   ]
  },
  {
   "cell_type": "markdown",
   "id": "ZlDP7M4IbVtb",
   "metadata": {
    "id": "ZlDP7M4IbVtb"
   },
   "source": []
  }
 ],
 "metadata": {
  "colab": {
   "provenance": []
  },
  "kernelspec": {
   "display_name": ".venv",
   "language": "python",
   "name": "python3"
  },
  "language_info": {
   "codemirror_mode": {
    "name": "ipython",
    "version": 3
   },
   "file_extension": ".py",
   "mimetype": "text/x-python",
   "name": "python",
   "nbconvert_exporter": "python",
   "pygments_lexer": "ipython3",
   "version": "3.12.5"
  }
 },
 "nbformat": 4,
 "nbformat_minor": 5
}
